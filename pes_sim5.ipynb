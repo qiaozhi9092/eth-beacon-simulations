{
 "cells": [
  {
   "cell_type": "code",
   "execution_count": 1,
   "metadata": {
    "collapsed": true
   },
   "outputs": [],
   "source": [
    "import main\n",
    "import beacon\n",
    "\n",
    "import matplotlib.pyplot as plt\n",
    "import numpy as np\n",
    "import pandas as pd\n",
    "import scipy.stats as st\n",
    "import pylab as pl\n",
    "from sklearn import preprocessing"
   ]
  },
  {
   "cell_type": "code",
   "execution_count": 2,
   "metadata": {
    "collapsed": true
   },
   "outputs": [],
   "source": [
    "# boo = beacon.Faction.HonestFaction(74, \"Honest\", 0.5, 0.1, 0.3)\n",
    "# poo = beacon.Faction.SmokeFaction(37, \"Dishonest\", 0.5, 0.1, 0.3)"
   ]
  },
  {
   "cell_type": "code",
   "execution_count": 3,
   "metadata": {
    "collapsed": true
   },
   "outputs": [],
   "source": [
    "def plot_game_ratio():\n",
    "    \"\"\"\n",
    "    This function calculates the ratio of 0s and 1s in one game and draws the scatter plot\n",
    "    \"\"\"\n",
    "    \n",
    "    game = beacon.play(boo, poo)\n",
    "    \n",
    "    numberZeros = 0\n",
    "    ratioZeros = 0\n",
    "    ratioZeros_list = []\n",
    "    for n in range(len(game)):\n",
    "        if game[n][2] == 0:\n",
    "            numberZeros += 1\n",
    "        ratioZeros = numberZeros/(n+1)\n",
    "        ratioZeros_list.append(ratioZeros)\n",
    "    ratioOnes_list = [1-item for item in ratioZeros_list]\n",
    "    \n",
    "    plt.plot(range(111), np.ravel(ratioZeros_list), 'o', color = 'red')\n",
    "    plt.plot(range(111), np.ravel(ratioOnes_list), 'o', color = 'blue')\n",
    "    plt.ylabel('ratio')\n",
    "    plt.xlabel('Number of votes')\n",
    "    plt.title('The ratio for number of 0s and the ratio for number of 1s in one game')\n",
    "    plt.legend(('0', '1'))\n",
    "    \n",
    "    plt.show()    "
   ]
  },
  {
   "cell_type": "code",
   "execution_count": 4,
   "metadata": {
    "collapsed": true
   },
   "outputs": [],
   "source": [
    "def plot_win_lose(n_simulations, boo, poo):\n",
    "    \"\"\"\n",
    "    parameters: the number of games simulated\n",
    "    \n",
    "    This function calculates the number of wins and loses in n simulated games and draws the bar plot\n",
    "    \"\"\"\n",
    "    stats = [main.collect_statistics(beacon.play(boo, poo)) for _ in range(n_simulations)]\n",
    "    \n",
    "    wins = 0\n",
    "    for s in stats:\n",
    "        if s[0] / (s[1]+s[0]) >= 2/3 or s[1] / (s[0]+s[1]) >= 2/3:\n",
    "            wins += 1\n",
    "        \n",
    "    result = ('Win', 'Lose')\n",
    "    y_pos = np.arange(len(result))\n",
    "    performance = [wins, len(stats)-wins]\n",
    "    \n",
    "    \n",
    "    plt.bar(y_pos, performance, align='center', alpha=0.5)\n",
    "    plt.text(-0.05, len(stats)/2, wins)\n",
    "    plt.text(0.95, len(stats)/2, len(stats)-wins)\n",
    "    plt.xticks(y_pos, result)\n",
    "    plt.ylabel('Result')\n",
    "    plt.title('Number of Win & Lose for n simulated games')\n",
    "    plt.show()\n",
    "    \n",
    "    \n",
    "    return performance"
   ]
  },
  {
   "cell_type": "code",
   "execution_count": 5,
   "metadata": {
    "collapsed": true
   },
   "outputs": [],
   "source": [
    "def win_lose_ratio(n_simulations, n_ratio_compared):\n",
    "    \"\"\"\n",
    "    parameters:\n",
    "        n_simulations: The number of games simulated to obtain one ratio value\n",
    "        n_ratio_compared: The number of ratio values\n",
    "        \n",
    "    This function calculates the ratio of wins and loses in n_simulations games, \n",
    "    then append each ratio (total of n_ratio_compared ratios) to the list\n",
    "    \"\"\"\n",
    "    ratio_list = []\n",
    "    \n",
    "    for n in range(n_ratio_compared):\n",
    "        ratio = 0\n",
    "        stats = [main.collect_statistics(beacon.play(boo, poo)) for _ in range(n_simulations)]\n",
    "\n",
    "        wins = 0\n",
    "        for s in stats:\n",
    "            if s[0] / (s[1]+s[0]) >= 2/3 or s[1] / (s[0]+s[1]) >= 2/3:\n",
    "                wins += 1\n",
    "\n",
    "        ratio = wins/len(stats)\n",
    "        ratio_list.append(ratio)\n",
    "    \n",
    "    return ratio_list"
   ]
  },
  {
   "cell_type": "code",
   "execution_count": 25,
   "metadata": {},
   "outputs": [
    {
     "data": {
      "image/png": "[encoded data removed]",
      "text/plain": [
       "<matplotlib.figure.Figure at 0x12e3db240>"
      ]
     },
     "metadata": {},
     "output_type": "display_data"
    },
    {
     "data": {
      "image/png": "[encoded data removed]",
      "text/plain": [
       "<matplotlib.figure.Figure at 0x12e1dc588>"
      ]
     },
     "metadata": {},
     "output_type": "display_data"
    }
   ],
   "source": [
    "t_vote = 0.5\n",
    "t_attack = [0.8,0.9]\n",
    "error = 0.2\n",
    "latency = 0.5\n",
    "\n",
    "\n",
    "for t in t_attack:\n",
    "    boo = beacon.Faction.HonestFaction(74, \"Honest\", t_vote, error, latency)\n",
    "    poo = beacon.Faction.SmokeFaction(37, \"Dishonest\", t, error, latency)\n",
    "    plot_game_ratio()"
   ]
  },
  {
   "cell_type": "code",
   "execution_count": 26,
   "metadata": {},
   "outputs": [
    {
     "data": {
      "image/png": "[encoded data removed]",
      "text/plain": [
       "<matplotlib.figure.Figure at 0x12e1e9400>"
      ]
     },
     "metadata": {},
     "output_type": "display_data"
    },
    {
     "data": {
      "image/png": "[encoded data removed]",
      "text/plain": [
       "<matplotlib.figure.Figure at 0x12e1f9630>"
      ]
     },
     "metadata": {},
     "output_type": "display_data"
    }
   ],
   "source": [
    "for t in t_attack:\n",
    "    boo = beacon.Faction.HonestFaction(74, \"Honest\", t_vote, error, latency)\n",
    "    poo = beacon.Faction.SmokeFaction(37, \"Dishonest\", t, error, latency)\n",
    "    plot_win_lose(100, boo, poo)"
   ]
  },
  {
   "cell_type": "code",
   "execution_count": 27,
   "metadata": {},
   "outputs": [
    {
     "name": "stdout",
     "output_type": "stream",
     "text": [
      "(0.6492063529560745, 0.7707936470439254)\n",
      "(0.7487860723933332, 0.911213927606667)\n"
     ]
    }
   ],
   "source": [
    "for t in t_attack:\n",
    "    boo = beacon.Faction.HonestFaction(74, \"Honest\", t_vote, error, latency)\n",
    "    poo = beacon.Faction.SmokeFaction(37, \"Dishonest\", t, error, latency)\n",
    "    #win_lose_ratio(10, 10)\n",
    "    print(st.t.interval(0.95, len(win_lose_ratio(10, 10))-1, loc=np.mean(win_lose_ratio(10, 10)), scale=st.sem(win_lose_ratio(10, 10))))"
   ]
  },
  {
   "cell_type": "code",
   "execution_count": 53,
   "metadata": {},
   "outputs": [
    {
     "data": {
      "text/plain": [
       "0.7260000000000001"
      ]
     },
     "execution_count": 53,
     "metadata": {},
     "output_type": "execute_result"
    }
   ],
   "source": [
    "(0.93+0.85+0.75+0.58+0.52)/5"
   ]
  },
  {
   "cell_type": "code",
   "execution_count": 54,
   "metadata": {},
   "outputs": [
    {
     "data": {
      "text/plain": [
       "0.7811274619498856"
      ]
     },
     "execution_count": 54,
     "metadata": {},
     "output_type": "execute_result"
    }
   ],
   "source": [
    "(0.9256373097494277+0.85+0.83+0.68+0.62)/5"
   ]
  },
  {
   "cell_type": "code",
   "execution_count": 55,
   "metadata": {},
   "outputs": [
    {
     "data": {
      "text/plain": [
       "0.8320000000000001"
      ]
     },
     "execution_count": 55,
     "metadata": {},
     "output_type": "execute_result"
    }
   ],
   "source": [
    "(0.91+0.85+0.82+0.78+0.8)/5"
   ]
  },
  {
   "cell_type": "code",
   "execution_count": 56,
   "metadata": {},
   "outputs": [
    {
     "data": {
      "text/plain": [
       "0.863435611205999"
      ]
     },
     "execution_count": 56,
     "metadata": {},
     "output_type": "execute_result"
    }
   ],
   "source": [
    "(0.88+0.9171780560299945+0.88+0.85+0.79)/5"
   ]
  },
  {
   "cell_type": "code",
   "execution_count": 30,
   "metadata": {},
   "outputs": [
    {
     "data": {
      "text/plain": [
       "0.8300000000000001"
      ]
     },
     "execution_count": 30,
     "metadata": {},
     "output_type": "execute_result"
    }
   ],
   "source": [
    "(0.7487860723933332+ 0.911213927606667)/2"
   ]
  },
  {
   "cell_type": "code",
   "execution_count": null,
   "metadata": {
    "collapsed": true
   },
   "outputs": [],
   "source": []
  }
 ],
 "metadata": {
  "kernelspec": {
   "display_name": "Python [Root]",
   "language": "python",
   "name": "Python [Root]"
  },
  "language_info": {
   "codemirror_mode": {
    "name": "ipython",
    "version": 3
   },
   "file_extension": ".py",
   "mimetype": "text/x-python",
   "name": "python",
   "nbconvert_exporter": "python",
   "pygments_lexer": "ipython3",
   "version": "3.5.3"
  }
 },
 "nbformat": 4,
 "nbformat_minor": 2
}
