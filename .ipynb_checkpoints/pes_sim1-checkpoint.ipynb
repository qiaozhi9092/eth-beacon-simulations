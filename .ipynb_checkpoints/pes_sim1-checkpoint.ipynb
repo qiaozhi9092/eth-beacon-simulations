{
 "cells": [
  {
   "cell_type": "code",
   "execution_count": 3,
   "metadata": {
    "collapsed": true
   },
   "outputs": [],
   "source": [
    "import main\n",
    "import beacon\n",
    "\n",
    "import matplotlib.pyplot as plt\n",
    "import numpy as np\n",
    "import pandas as pd\n",
    "import scipy.stats as st\n",
    "import pylab as pl\n",
    "from sklearn import preprocessing"
   ]
  },
  {
   "cell_type": "code",
   "execution_count": 4,
   "metadata": {
    "collapsed": true
   },
   "outputs": [],
   "source": [
    "# boo = beacon.Faction.HonestFaction(74, \"Honest\", 0.5, 0.1, 0.3)\n",
    "# poo = beacon.Faction.SmokeFaction(37, \"Dishonest\", 0.5, 0.1, 0.3)"
   ]
  },
  {
   "cell_type": "code",
   "execution_count": 5,
   "metadata": {
    "collapsed": true
   },
   "outputs": [],
   "source": [
    "def plot_game_ratio():\n",
    "    \"\"\"\n",
    "    This function calculates the ratio of 0s and 1s in one game and draws the scatter plot\n",
    "    \"\"\"\n",
    "    \n",
    "    game = beacon.play(boo, poo)\n",
    "    \n",
    "    numberZeros = 0\n",
    "    ratioZeros = 0\n",
    "    ratioZeros_list = []\n",
    "    for n in range(len(game)):\n",
    "        if game[n][2] == 0:\n",
    "            numberZeros += 1\n",
    "        ratioZeros = numberZeros/(n+1)\n",
    "        ratioZeros_list.append(ratioZeros)\n",
    "    ratioOnes_list = [1-item for item in ratioZeros_list]\n",
    "    \n",
    "    plt.plot(range(111), np.ravel(ratioZeros_list), 'o', color = 'red')\n",
    "    plt.plot(range(111), np.ravel(ratioOnes_list), 'o', color = 'blue')\n",
    "    plt.ylabel('ratio')\n",
    "    plt.xlabel('Number of votes')\n",
    "    plt.title('The ratio for number of 0s and the ratio for number of 1s in one game')\n",
    "    plt.legend(('0', '1'))\n",
    "    \n",
    "    plt.show()    "
   ]
  },
  {
   "cell_type": "code",
   "execution_count": 6,
   "metadata": {
    "collapsed": true
   },
   "outputs": [],
   "source": [
    "def plot_win_lose(n_simulations):\n",
    "    \"\"\"\n",
    "    parameters: the number of games simulated\n",
    "    \n",
    "    This function calculates the number of wins and loses in n simulated games and draws the bar plot\n",
    "    \"\"\"\n",
    "    stats = [main.collect_statistics(beacon.play(boo, poo)) for _ in range(n_simulations)]\n",
    "    \n",
    "    wins = 0\n",
    "    for s in stats:\n",
    "        if s[0] / (s[1]+s[0]) >= 2/3 or s[1] / (s[0]+s[1]) >= 2/3:\n",
    "            wins += 1\n",
    "        \n",
    "    result = ('Win', 'Lose')\n",
    "    y_pos = np.arange(len(result))\n",
    "    performance = [wins, len(stats)-wins]\n",
    "    \n",
    "    \n",
    "    plt.bar(y_pos, performance, align='center', alpha=0.5)\n",
    "    plt.text(-0.05, len(stats)/2, wins)\n",
    "    plt.text(0.95, len(stats)/2, len(stats)-wins)\n",
    "    plt.xticks(y_pos, result)\n",
    "    plt.ylabel('Result')\n",
    "    plt.title('Number of Win & Lose for n simulated games')\n",
    "    plt.show()\n",
    "    \n",
    "    \n",
    "    return performance"
   ]
  },
  {
   "cell_type": "code",
   "execution_count": 7,
   "metadata": {
    "collapsed": true
   },
   "outputs": [],
   "source": [
    "def win_lose_ratio(n_simulations, n_ratio_compared):\n",
    "    \"\"\"\n",
    "    parameters:\n",
    "        n_simulations: The number of games simulated to obtain one ratio value\n",
    "        n_ratio_compared: The number of ratio values\n",
    "        \n",
    "    This function calculates the ratio of wins and loses in n_simulations games, \n",
    "    then append each ratio (total of n_ratio_compared ratios) to the list\n",
    "    \"\"\"\n",
    "    ratio_list = []\n",
    "    \n",
    "    for n in range(n_ratio_compared):\n",
    "        ratio = 0\n",
    "        stats = [main.collect_statistics(beacon.play(boo, poo)) for _ in range(n_simulations)]\n",
    "\n",
    "        wins = 0\n",
    "        for s in stats:\n",
    "            if s[0] / (s[1]+s[0]) >= 2/3 or s[1] / (s[0]+s[1]) >= 2/3:\n",
    "                wins += 1\n",
    "\n",
    "        ratio = wins/len(stats)\n",
    "        ratio_list.append(ratio)\n",
    "    \n",
    "    return ratio_list"
   ]
  },
  {
   "cell_type": "code",
   "execution_count": 8,
   "metadata": {},
   "outputs": [
    {
     "data": {
      "image/png": "[encoded data removed]",
      "text/plain": [
       "<matplotlib.figure.Figure at 0x129567b70>"
      ]
     },
     "metadata": {},
     "output_type": "display_data"
    }
   ],
   "source": [
    "t_vote = 0.5\n",
    "t_attack = 0.5\n",
    "error = 0.1\n",
    "latency = 0.5\n",
    "\n",
    "boo = beacon.Faction.HonestFaction(74, \"Honest\", t_vote, error, latency)\n",
    "poo = beacon.Faction.SmokeFaction(37, \"Dishonest\", t_attack, error, latency)\n",
    "plot_game_ratio()"
   ]
  },
  {
   "cell_type": "code",
   "execution_count": 9,
   "metadata": {},
   "outputs": [
    {
     "data": {
      "image/png": "[encoded data removed]",
      "text/plain": [
       "<matplotlib.figure.Figure at 0x129577748>"
      ]
     },
     "metadata": {},
     "output_type": "display_data"
    },
    {
     "data": {
      "text/plain": [
       "[95, 5]"
      ]
     },
     "execution_count": 9,
     "metadata": {},
     "output_type": "execute_result"
    }
   ],
   "source": [
    "plot_win_lose(100)"
   ]
  },
  {
   "cell_type": "code",
   "execution_count": 10,
   "metadata": {
    "collapsed": true
   },
   "outputs": [],
   "source": [
    "win_lose_ratio = win_lose_ratio(10, 10)"
   ]
  },
  {
   "cell_type": "code",
   "execution_count": 11,
   "metadata": {},
   "outputs": [
    {
     "data": {
      "text/plain": [
       "(0.9230591282220163, 0.9969408717779836)"
      ]
     },
     "execution_count": 11,
     "metadata": {},
     "output_type": "execute_result"
    }
   ],
   "source": [
    "st.t.interval(0.95, len(win_lose_ratio)-1, loc=np.mean(win_lose_ratio), scale=st.sem(win_lose_ratio))"
   ]
  },
  {
   "cell_type": "code",
   "execution_count": null,
   "metadata": {
    "collapsed": true
   },
   "outputs": [],
   "source": []
  }
 ],
 "metadata": {
  "kernelspec": {
   "display_name": "Python [Root]",
   "language": "python",
   "name": "Python [Root]"
  }
 },
 "nbformat": 4,
 "nbformat_minor": 2
}
